{
 "cells": [
  {
   "cell_type": "markdown",
   "metadata": {
    "id": "AbgpE7GxJq6G"
   },
   "source": [
    "# Learning the Environment\n",
    "\n",
    "*This notebook is adapted from the Hathi Trust Research Center training materials*\n",
    "\n",
    "The interface that you're using is called _Jupyter_ - which allows you to interact with code in your browser, though a format called a 'notebook'. In addition to being in the browser, Jupyter is pleasant because it's _interactive_, so you can interact with your code. The traditional way of running code involves writing a script and running the whole thing; the interactive approach used by Jupyter is more segmented and better for data analysis, because you explore, tinker, and converse with your data.\n",
    "\n",
    "Jupyter notebooks are designed to support a literate programming approach which means that each step is explained with text as well as code."
   ]
  },
  {
   "cell_type": "markdown",
   "metadata": {
    "id": "QBM3sZgfJq6K"
   },
   "source": [
    "### Let's get comfortable with Jupyter\n",
    "\n",
    "Jupyter is one of many execution environtments for Python and R.  Its specific vision of the world is that work is done iteratively, with an active session.\n",
    "\n",
    "\"Script-like\" execution means that you write down all the code in a file, and that entire file is run in order.\n",
    "\n",
    "\"Interpreter-like\" execution means that you type in commands one at a time. The session pauses after each, waiting for the next command. This is really similar to how the command line is run.\n",
    "\n",
    "Jupyter is a hybrid of both those things.  Notebooks are composed of cells.  Then the cells are executed (almost like mini scripts).  This gives you the advantage of keeping the session alive so you don't have to repeat loading data, etc., and the advantage of being able to execute multiple lines of code at the same time.\n",
    "\n",
    "Jupyter is extremely powerful, but there are a few traps.\n",
    "\n",
    "#### Cells\n",
    "\n",
    "A Jupyter notebook is composed of individual cells. Everything is a cell. Some are just text, others are code, but each is \"run\" in order for things to appear. Text cells are Markdown that is interpreted into formatted text. Code cells are limited to the language that your notebook is in.\n",
    "\n",
    "Cells are meant to run sequentially in a Jupyter notebook. Runtime tools in the menu help you torubleshoot when a cell is misbehaving -- it is quite often the case that a cell is relying on something that came before but was not run correctly.\n",
    "\n",
    "A code cell will not show you output unless you tell it to. Humans need things to be \"printed\" in some way, whether as text or a visualization in order for an output to show."
   ]
  },
  {
   "cell_type": "code",
   "execution_count": null,
   "metadata": {
    "colab": {
     "base_uri": "https://localhost:8080/"
    },
    "id": "vo7qd-q_Jq6L",
    "outputId": "d090c221-052e-4a65-da97-cfc7d9507b35"
   },
   "outputs": [],
   "source": [
    "print(\"Ensure that this cell is active, you can do that by clicking inside here.\")\n",
    "print(\"Press shift+enter to execute this cell.\")\n",
    "print(\"Try using the right shift and return at the same time, with one hand.\")\n",
    "print(\"You can also press the 'play' button at the top.\")"
   ]
  },
  {
   "cell_type": "markdown",
   "metadata": {
    "id": "eMvbrGcLJq6N"
   },
   "source": [
    "The cell above contains four print statements that will be executed sequentially once the cell is executed. You should see all the content printed out below that cell.\n",
    "\n",
    "Let's look at a more complex code snippet."
   ]
  },
  {
   "cell_type": "code",
   "execution_count": null,
   "metadata": {
    "colab": {
     "base_uri": "https://localhost:8080/"
    },
    "id": "VoKc0Wn_Jq6N",
    "outputId": "cf6ddfc6-f4e9-4d48-e032-daa181b02678"
   },
   "outputs": [],
   "source": [
    "title = \"Jupyter and You\"\n",
    "author = \"Human, A.\"\n",
    "year_published = 2018\n",
    "\n",
    "print(\"The book, \" + title + \", by \" + author + \", was published in \" + str(year_published) + \".\")"
   ]
  },
  {
   "cell_type": "markdown",
   "metadata": {
    "id": "7omRaGpjJq6O"
   },
   "source": [
    "This code cell defines a few variables that are describing a book, and has a print statement with a summary about them. Each line is executed and does something, but only the final one actually makes something appear to the screen.\n",
    "\n",
    "Important to understand:  Python has eyes on things that exist within the session. You can have a ton of code working behind the scenes without anything printed out.  This is different from your human eyes.  This is where print statements (and some fun jupyter stuff comes in handy).\n",
    "\n",
    "So if you want to see it with your human eyes, you have to explicitly make that happen somehow.\n",
    "\n",
    "If Python doesn't yell at you, the code executed.  Now, it may not have done the thing you wanted it to do, but it did do something!\n",
    "\n",
    "**Take a few minutes to play with changing and executing the code above to get a feel for things.**"
   ]
  },
  {
   "cell_type": "markdown",
   "metadata": {
    "id": "fiaZP_2BJq6O"
   },
   "source": [
    "### Jupyter pain points\n",
    "\n",
    "Powerfully flexible systems open up endless opportunities to powerfully tangle your code up.\n",
    "\n",
    "Here are a few key tips as you are getting started:\n",
    "\n",
    "* While Jupyter allows you to evaluate cells out of order, please try to only do them in order.\n",
    "* If you are getting errors that make no sense, sometimes going back to the top and starting over fixes it.\n"
   ]
  },
  {
   "cell_type": "markdown",
   "metadata": {
    "id": "C2rMZGuQJq6P"
   },
   "source": [
    "### Installing and importing pre-requisites\n",
    "\n",
    "Python has a default set of functions and tools, things like `print()` that are so commonly used that you don't need to do anything special to be able to use them.There are other things that come preloaded with standard Python (this is the Standard Library), but you'll have to specifically ask for them and others can be installed using tools such as pip. \n",
    "\n",
    "Whether part of the standard library or installed separately, you use **import statements** to bring them into your current session. Once imported, you have access to use the functions and content from that toolkit.  \n"
   ]
  },
  {
   "cell_type": "code",
   "execution_count": null,
   "metadata": {
    "colab": {
     "base_uri": "https://localhost:8080/",
     "height": 347
    },
    "id": "TmXqDCGLJq6Q",
    "outputId": "7935f671-beb1-4272-da64-c9c3b78807b3",
    "scrolled": true
   },
   "outputs": [],
   "source": [
    "pip install htrc-feature-reader"
   ]
  },
  {
   "cell_type": "code",
   "execution_count": null,
   "metadata": {},
   "outputs": [],
   "source": [
    "from htrc_features import FeatureReader"
   ]
  }
 ],
 "metadata": {
  "colab": {
   "provenance": []
  },
  "kernelspec": {
   "display_name": "Python 3 (ipykernel)",
   "language": "python",
   "name": "python3"
  },
  "language_info": {
   "codemirror_mode": {
    "name": "ipython",
    "version": 3
   },
   "file_extension": ".py",
   "mimetype": "text/x-python",
   "name": "python",
   "nbconvert_exporter": "python",
   "pygments_lexer": "ipython3",
   "version": "3.11.4"
  }
 },
 "nbformat": 4,
 "nbformat_minor": 4
}
